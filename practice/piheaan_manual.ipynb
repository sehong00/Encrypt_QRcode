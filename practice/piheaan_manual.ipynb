{
 "cells": [
  {
   "cell_type": "markdown",
   "metadata": {},
   "source": [
    "# Pi-HEaaN"
   ]
  },
  {
   "cell_type": "code",
   "execution_count": 493,
   "metadata": {},
   "outputs": [],
   "source": [
    "#???????????????????????????????????????????? 이거 빼고 다 이해함"
   ]
  },
  {
   "cell_type": "code",
   "execution_count": 1,
   "metadata": {},
   "outputs": [
    {
     "name": "stdout",
     "output_type": "stream",
     "text": [
      "Collecting pi-heaan\n",
      "  Downloading pi_heaan-3.4.1.3-cp39-cp39-win_amd64.whl (180 kB)\n",
      "     ------------------------------------- 180.8/180.8 kB 10.7 MB/s eta 0:00:00\n",
      "Installing collected packages: pi-heaan\n",
      "Successfully installed pi-heaan-3.4.1.3\n",
      "Note: you may need to restart the kernel to use updated packages.\n"
     ]
    }
   ],
   "source": [
    "%pip install pi-heaan\n",
    "import piheaan as heaan\n",
    "from piheaan.math import sort\n",
    "from piheaan.math import approx # for piheaan math function\n",
    "import math\n",
    "import numpy as np\n",
    "import pandas as pd\n",
    "import os"
   ]
  },
  {
   "cell_type": "code",
   "execution_count": 61,
   "metadata": {},
   "outputs": [
    {
     "name": "stdout",
     "output_type": "stream",
     "text": [
      "params:  ParameterPreset.FGb\n",
      "context:  <piheaan.Context object at 0x0000014CFCFB6B70>\n"
     ]
    }
   ],
   "source": [
    "# set parameter\n",
    "params = heaan.ParameterPreset.FGb\n",
    "print(\"params: \", params)\n",
    "context = heaan.make_context(params) # context has paramter information\n",
    "print(\"context: \", context)\n",
    "heaan.make_bootstrappable(context) # make parameter bootstrapable\n",
    "\n",
    "# create and save keys\n",
    "key_file_path = \"./keys\"\n",
    "\n",
    "# ./keys 폴더 안에 secretkey.bin이 있고, PK라는 폴더가 있어.\n",
    "# ./PK 폴더 안에는 ConjKey.bin, EncKey.bin, MultKey.bin,\n",
    "# RotKey1.bin, RotKey2.bin, RotKey3.bin, RotKey4.bin, RotKey5.bin, RotKey6.bin, RotKey7.bin, RotKey8.bin\n",
    "# RotKey16.bin, RotKey24.bin, RotKey32.bin, RotKey40.bin, RotKey48.bin, RotKey56.bin, RotKey64.bin, RotKey96.bin\n",
    "# RotKey128.bin, RotKe160.bin, RotKey192.bin, RotKey224.bin, RotKey256.bin, RotKey512.bin, RotKey768.bin\n",
    "# RotKey1024.bin, RotKey1280.bin, RotKey1536.bin, RotKey1792.bin, RotKey2048.bin\n",
    "# RotKey3072.bin, RotKey4096.bin, RotKey8192.bin\n",
    "# RotKey12288.bin, RotKey16384.bin, RotKey20480.bin\n",
    "# RotKey24576.bin, RotKey28672.bin, RotKey30720.bin\n",
    "# RotKey31744.bin, RotKey32256.bin, RotKey32512.bin\n",
    "# RotKey32640.bin, RotKey32704.bin, RotKey32736.bin\n",
    "# RotKey32752.bin, RotKey32760.bin, RotKey32764.bin\n",
    "# RotKey32766.bin, RotKey32767.bin 가 있어.\n",
    "\n",
    "# secretkey.bin: 이 파일에는 비밀 키가 포함되어 있습니다. 비밀 키에 대한 액세스가 필요한 암호 해독이나 기타 작업에 사용될 가능성이 높습니다.\n",
    "\n",
    "# ./PK 디렉터리: 이 디렉터리에는 공개 키와 관련된 다양한 파일이 포함되어 있습니다.\n",
    "# ConjKey.bin: 활용 키일 수 있습니다.\n",
    "# EncKey.bin: 암호화 키.\n",
    "# MultKey.bin: 곱셈 키.\n",
    "\n",
    "# 회전 키(RotKeyX.bin): 이 파일에는 1비트부터 더 높은 비트 수(예: 32767비트)까지 다양한 회전 크기에 대한\n",
    "# 회전 키가 포함되어 있는 것으로 보입니다. 이러한 회전 키는 동형 연산 중에 암호문을 회전하는 데 사용될 가능성이 높습니다.\n",
    "\n",
    "# 이러한 파일에는 코드에 구현된 동형 암호화 구성표의 기능에 필요한 암호화 키와 매개변수가 저장되어 있을 가능성이 높습니다.\n",
    "# 이는 암호화, 암호 해독 및 동형 작업에 중요하며 암호화된 데이터의 보안과 무결성을 보장합니다.\n",
    "\n",
    "sk = heaan.SecretKey(context) # create secret key\n",
    "os.makedirs(key_file_path, mode=0o775, exist_ok=True)\n",
    "sk.save(key_file_path+\"/secretkey.bin\") # save secret key\n",
    "\n",
    "key_generator = heaan.KeyGenerator(context, sk) # create public key\n",
    "key_generator.gen_common_keys()\n",
    "key_generator.save(key_file_path+\"/\") # save public key"
   ]
  },
  {
   "cell_type": "code",
   "execution_count": 54,
   "metadata": {},
   "outputs": [],
   "source": [
    "# load secret key and public key\n",
    "# When a key is created, it can be used again to save a new key without creating a new one\n",
    "key_file_path = \"./keys\"\n",
    "\n",
    "sk = heaan.SecretKey(context,key_file_path+\"/secretkey.bin\") # load secret key\n",
    "pk = heaan.KeyPack(context, key_file_path+\"/\") # load public key\n",
    "pk.load_enc_key()\n",
    "pk.load_mult_key()\n",
    "\n",
    "eval = heaan.HomEvaluator(context,pk) # to load piheaan basic function\n",
    "dec = heaan.Decryptor(context) # for decrypt\n",
    "enc = heaan.Encryptor(context) # for encrypt"
   ]
  },
  {
   "cell_type": "code",
   "execution_count": 5,
   "metadata": {},
   "outputs": [],
   "source": [
    "# log_slots is used for the number of slots per ciphertext\n",
    "# It depends on the parameter used (ParameterPreset)\n",
    "# The number '15' is the value for maximum number of slots,\n",
    "# but you can also use a smaller number (ex. 2, 3, 5, 7 ...)\n",
    "# The actual number of slots in the ciphertext is calculated as below.\n",
    "log_slots = 15 \n",
    "num_slots = 2**log_slots"
   ]
  },
  {
   "cell_type": "markdown",
   "metadata": {},
   "source": [
    "- The computations in pi-heaan are based on operations between slots.\n",
    "- Also, the result of an operation between ciphertexts is placed into a new ciphertext (or overwritten)."
   ]
  },
  {
   "cell_type": "markdown",
   "metadata": {},
   "source": [
    "# 01 heaan.HomEvaluator"
   ]
  },
  {
   "cell_type": "markdown",
   "metadata": {},
   "source": [
    "### add\n",
    "- add : addition of two ciphertexts\n",
    "    - add(self: piheaan.HomEvaluator, arg0: piheaan.Ciphertext, arg1: piheaan.Ciphertext, arg2: piheaan.Ciphertext)\n",
    "    - add(self: piheaan.HomEvaluator, arg0: piheaan.Ciphertext, arg1: piheaan.Message, arg2: piheaan.Ciphertext)\n",
    "    - add(self: piheaan.HomEvaluator, arg0: piheaan.Message, arg1: piheaan.Message, arg2: piheaan.Message)\n",
    "    - arg2 <- arg0 + arg1    \n",
    "\n",
    "### sub\n",
    "- sub : subtraction of two ciphertexts\n",
    "    - same paramters as 'add'"
   ]
  },
  {
   "cell_type": "code",
   "execution_count": 6,
   "metadata": {},
   "outputs": [
    {
     "name": "stdout",
     "output_type": "stream",
     "text": [
      "message_1 :  [ (0.100000+0.000000j), (0.200000+0.000000j), (0.300000+0.000000j), (0.400000+0.000000j), (0.500000+0.000000j), (0.600000+0.000000j), (0.700000+0.000000j), (0.800000+0.000000j) ]\n",
      "\n",
      "message_2 :  [ (0.200000+0.000000j), (0.300000+0.000000j), (0.400000+0.000000j), (0.500000+0.000000j), (0.600000+0.000000j), (0.700000+0.000000j), (0.800000+0.000000j), (0.100000+0.000000j) ]\n"
     ]
    }
   ],
   "source": [
    "log_slots = 3\n",
    "num_slots = 2**log_slots\n",
    "\n",
    "data1 = [0.1, 0.2, 0.3, 0.4, 0.5, 0.6, 0.7, 0.8]\n",
    "message_1 = heaan.Message(log_slots)\n",
    "for i in range(num_slots):\n",
    "    message_1[i] = data1[i]\n",
    "\n",
    "data2 = [0.2, 0.3, 0.4, 0.5, 0.6, 0.7, 0.8, 0.1]\n",
    "message_2 = heaan.Message(log_slots)\n",
    "for i in range(num_slots):\n",
    "    message_2[i] = data2[i]\n",
    "\n",
    "\n",
    "print(\"message_1 : \", message_1)\n",
    "print()\n",
    "print(\"message_2 : \", message_2)\n",
    "\n",
    "# j 는 허수를 나타내는 기호임\n",
    "# 소수점 6자리까지 나오는건 기본값 세팅임."
   ]
  },
  {
   "cell_type": "code",
   "execution_count": 7,
   "metadata": {},
   "outputs": [
    {
     "name": "stdout",
     "output_type": "stream",
     "text": [
      "(ciphertext + ciphertext) :  [ (0.300000+0.000000j), (0.500000+0.000000j), (0.700000+0.000000j), (0.900000+0.000000j), (1.100000+0.000000j), (1.300000+0.000000j), (1.500000+0.000000j), (0.900000+0.000000j) ]\n"
     ]
    }
   ],
   "source": [
    "# (ciphertext + ciphertext)\n",
    "ciphertext_1 = heaan.Ciphertext(context)\n",
    "ciphertext_2 = heaan.Ciphertext(context)\n",
    "result_add = heaan.Ciphertext(context)\n",
    "\n",
    "enc.encrypt(message_1, pk, ciphertext_1)\n",
    "enc.encrypt(message_2, pk, ciphertext_2)\n",
    "\n",
    "eval.add(ciphertext_1, ciphertext_2, result_add)\n",
    "\n",
    "result_add_message = heaan.Message(log_slots)\n",
    "dec.decrypt(result_add, sk, result_add_message)\n",
    "\n",
    "print(\"(ciphertext + ciphertext) : \", result_add_message)"
   ]
  },
  {
   "cell_type": "code",
   "execution_count": 7,
   "metadata": {},
   "outputs": [
    {
     "name": "stdout",
     "output_type": "stream",
     "text": [
      "(ciphertext + message) :  [ (0.300000+0.000000j), (0.500000+0.000000j), (0.700000+0.000000j), (0.900000+0.000000j), (1.100000+0.000000j), (1.300000+0.000000j), (1.500000+0.000000j), (0.900000+0.000000j) ]\n"
     ]
    }
   ],
   "source": [
    "# (ciphertext + message) 1\n",
    "eval.add(ciphertext_1, message_2, result_add)\n",
    "\n",
    "result_add_message = heaan.Message(log_slots)\n",
    "dec.decrypt(result_add, sk, result_add_message)\n",
    "\n",
    "print(\"(ciphertext + message) : \", result_add_message)"
   ]
  },
  {
   "cell_type": "code",
   "execution_count": 8,
   "metadata": {},
   "outputs": [
    {
     "name": "stdout",
     "output_type": "stream",
     "text": [
      "(ciphertext + message) :  [ (2.100000+0.000000j), (2.200000+0.000000j), (2.300000+0.000000j), (2.400000+0.000000j), (2.500000+0.000000j), (2.600000+0.000000j), (2.700000+0.000000j), (2.800000+0.000000j) ]\n"
     ]
    }
   ],
   "source": [
    "# (ciphertext + message(int or float or ...)) 2\n",
    "eval.add(ciphertext_1, 2, result_add)\n",
    "\n",
    "result_add_message = heaan.Message(log_slots)\n",
    "dec.decrypt(result_add, sk, result_add_message)\n",
    "\n",
    "print(\"(ciphertext + message) : \", result_add_message)"
   ]
  },
  {
   "cell_type": "code",
   "execution_count": 9,
   "metadata": {},
   "outputs": [
    {
     "name": "stdout",
     "output_type": "stream",
     "text": [
      "(message + message) :  [ (0.300000+0.000000j), (0.500000+0.000000j), (0.700000+0.000000j), (0.900000+0.000000j), (1.100000+0.000000j), (1.300000+0.000000j), (1.500000+0.000000j), (0.900000+0.000000j) ]\n"
     ]
    }
   ],
   "source": [
    "# (message + message)\n",
    "result_add_message = heaan.Message(log_slots)\n",
    "eval.add(message_1, message_2, result_add_message)\n",
    "\n",
    "print(\"(message + message) : \", result_add_message)"
   ]
  },
  {
   "cell_type": "markdown",
   "metadata": {},
   "source": [
    "### mult\n",
    "- multiplication of two ciphertexts\n",
    "    - mult(self: piheaan.HomEvaluator, arg0: piheaan.Ciphertext, arg1: piheaan.Ciphertext, arg2: piheaan.Ciphertext)\n",
    "    - mult(self: piheaan.HomEvaluator, arg0: piheaan.Ciphertext, arg1: piheaan.Message, arg2: piheaan.Ciphertext)\n",
    "    - mult(self: piheaan.HomEvaluator, arg0: piheaan.Message, arg1: piheaan.Message, arg2: piheaan.Message)"
   ]
  },
  {
   "cell_type": "code",
   "execution_count": 10,
   "metadata": {},
   "outputs": [
    {
     "name": "stdout",
     "output_type": "stream",
     "text": [
      "(ciphertext * ciphertext) :  [ (0.020000+0.000000j), (0.060000+0.000000j), (0.120000+0.000000j), (0.200000+0.000000j), (0.300000+0.000000j), (0.420000+0.000000j), (0.560000+0.000000j), (0.080000+0.000000j) ]\n"
     ]
    }
   ],
   "source": [
    "# (ciphertext * ciphertext)\n",
    "result_mult = heaan.Ciphertext(context)\n",
    "eval.mult(ciphertext_1, ciphertext_2, result_mult)\n",
    "\n",
    "result_mult_message = heaan.Message(log_slots)\n",
    "dec.decrypt(result_mult, sk, result_mult_message)\n",
    "\n",
    "print(\"(ciphertext * ciphertext) : \", result_mult_message)"
   ]
  },
  {
   "cell_type": "code",
   "execution_count": 11,
   "metadata": {},
   "outputs": [
    {
     "name": "stdout",
     "output_type": "stream",
     "text": [
      "(ciphertext * message) :  [ (0.020000+0.000000j), (0.060000+0.000000j), (0.120000+0.000000j), (0.200000+0.000000j), (0.300000+0.000000j), (0.420000+0.000000j), (0.560000+0.000000j), (0.080000+0.000000j) ]\n"
     ]
    }
   ],
   "source": [
    "# (ciphertext * message) 1\n",
    "eval.mult(ciphertext_1, message_2, result_mult)\n",
    "\n",
    "result_mult_message = heaan.Message(log_slots)\n",
    "dec.decrypt(result_mult, sk, result_mult_message)\n",
    "\n",
    "print(\"(ciphertext * message) : \", result_mult_message)"
   ]
  },
  {
   "cell_type": "code",
   "execution_count": 12,
   "metadata": {},
   "outputs": [
    {
     "name": "stdout",
     "output_type": "stream",
     "text": [
      "(ciphertext * ciphertext) :  [ (0.200000+0.000000j), (0.400000+0.000000j), (0.600000+0.000000j), (0.800000+0.000000j), (1.000000+0.000000j), (1.200000+0.000000j), (1.400000+0.000000j), (1.600000+0.000000j) ]\n"
     ]
    }
   ],
   "source": [
    "# (ciphertext * message) 2\n",
    "eval.mult(ciphertext_1, 2, result_mult)\n",
    "\n",
    "result_mult_message = heaan.Message(log_slots)\n",
    "dec.decrypt(result_mult, sk, result_mult_message)\n",
    "\n",
    "print(\"(ciphertext * ciphertext) : \", result_mult_message)"
   ]
  },
  {
   "cell_type": "code",
   "execution_count": 13,
   "metadata": {},
   "outputs": [
    {
     "name": "stdout",
     "output_type": "stream",
     "text": [
      "(message * message) :  [ (0.020000+0.000000j), (0.060000+0.000000j), (0.120000+0.000000j), (0.200000+0.000000j), (0.300000+0.000000j), (0.420000+0.000000j), (0.560000+0.000000j), (0.080000+0.000000j) ]\n"
     ]
    }
   ],
   "source": [
    "# (message * message)\n",
    "result_mult_message = heaan.Message(log_slots)\n",
    "eval.mult(message_1, message_2, result_mult_message)\n",
    "\n",
    "print(\"(message * message) : \", result_mult_message)"
   ]
  },
  {
   "cell_type": "markdown",
   "metadata": {},
   "source": [
    "### negate\n",
    "- change the sign (ex. -2 -> +2)\n",
    "- negate(self: piheaan.HomEvaluator, arg0: piheaan.Ciphertext, arg1: piheaan.Ciphertext)"
   ]
  },
  {
   "cell_type": "code",
   "execution_count": 14,
   "metadata": {},
   "outputs": [
    {
     "name": "stdout",
     "output_type": "stream",
     "text": [
      "-(ciphertext_1) :  [ (-0.100000+0.000000j), (-0.200000+0.000000j), (-0.300000+0.000000j), (-0.400000+0.000000j), (-0.500000+0.000000j), (-0.600000+0.000000j), (-0.700000+0.000000j), (-0.800000+0.000000j) ]\n",
      "\n",
      "-(-ciphertext_1) :  [ (0.100000+0.000000j), (0.200000+0.000000j), (0.300000+0.000000j), (0.400000+0.000000j), (0.500000+0.000000j), (0.600000+0.000000j), (0.700000+0.000000j), (0.800000+0.000000j) ]\n"
     ]
    }
   ],
   "source": [
    "result_negate = heaan.Ciphertext(context)\n",
    "\n",
    "# cipertext의 부호를 바꾸기\n",
    "# plus sign -> minus sign\n",
    "eval.negate(ciphertext_1, result_negate)\n",
    "\n",
    "result_negate_message = heaan.Message(log_slots)\n",
    "dec.decrypt(result_negate, sk, result_negate_message)\n",
    "print(\"-(ciphertext_1) : \", result_negate_message)\n",
    "print()\n",
    "\n",
    "# cipertext의 부호를 한번 더 바꾸기\n",
    "# minus sign -> plus sign\n",
    "eval.negate(result_negate, result_negate)\n",
    "\n",
    "result_negate_message = heaan.Message(log_slots)\n",
    "dec.decrypt(result_negate, sk, result_negate_message)\n",
    "print(\"-(-ciphertext_1) : \", result_negate_message)"
   ]
  },
  {
   "cell_type": "markdown",
   "metadata": {},
   "source": [
    "### square\n",
    "- square of ciphertext (ex. x -> x^2)\n",
    "- square(self: piheaan.HomEvaluator, arg0: piheaan.Ciphertext, arg1: piheaan.Ciphertext)"
   ]
  },
  {
   "cell_type": "code",
   "execution_count": 9,
   "metadata": {},
   "outputs": [
    {
     "name": "stdout",
     "output_type": "stream",
     "text": [
      "(ciphertext_1)**2 :  (level: 11, log(num slots): 3, data: [ (0.010000+0.000000j), (0.040000+0.000000j), (0.090000+0.000000j), (0.160000+0.000000j), (0.250000+0.000000j), (0.360000+0.000000j), (0.490000+0.000000j), (0.640000+0.000000j) ])\n",
      "\n",
      "[ (0.010000+0.000000j), (0.040000+0.000000j), (0.090000+0.000000j), (0.160000+0.000000j), (0.250000+0.000000j), (0.360000+0.000000j), (0.490000+0.000000j), (0.640000+0.000000j) ]\n"
     ]
    }
   ],
   "source": [
    "result_square = heaan.Ciphertext(context)\n",
    "\n",
    "eval.square(ciphertext_1, result_square)\n",
    "\n",
    "result_square_message = heaan.Message(log_slots)\n",
    "dec.decrypt(result_square, sk, result_square_message)\n",
    "print(\"(ciphertext_1)**2 : \", result_square) \n",
    "print()\n",
    "print(result_square_message)\n",
    "# is the same result as \"eval.mult(ciphertext_1, ciphertext_1, result_square)\"\n",
    "\n",
    "# level: 11 은 암호문의 보안 수준이나 깊이를 나타냄"
   ]
  },
  {
   "cell_type": "markdown",
   "metadata": {},
   "source": [
    "### left_rotate / right_rotate\n",
    "- the operation of rotating data in ciphertext\n",
    "- left(right)_rotate(self: piheaan.HomEvaluator, arg0: piheaan.Ciphertext, arg1: int, arg2: piheaan.Ciphertext)"
   ]
  },
  {
   "cell_type": "code",
   "execution_count": 10,
   "metadata": {},
   "outputs": [
    {
     "name": "stdout",
     "output_type": "stream",
     "text": [
      "<piheaan.Context object at 0x0000014CFBEF0130>\n",
      "\n",
      "left_rotate :  [ (0.400000+0.000000j), (0.500000+0.000000j), (0.600000+0.000000j), (0.700000+0.000000j), (0.800000+0.000000j), (0.100000+0.000000j), (0.200000+0.000000j), (0.300000+0.000000j) ]\n",
      "\n",
      "right_rotate :  [ (0.600000+0.000000j), (0.700000+0.000000j), (0.800000+0.000000j), (0.100000+0.000000j), (0.200000+0.000000j), (0.300000+0.000000j), (0.400000+0.000000j), (0.500000+0.000000j) ]\n"
     ]
    }
   ],
   "source": [
    "result_left_rot = heaan.Ciphertext(context)\n",
    "result_right_rot = heaan.Ciphertext(context)\n",
    "\n",
    "# left_rotate\n",
    "# ciphertext_1 는 0.1 ~ 0.8 이었음.\n",
    "# 암호문의 비트를 슬롯 내에서 왼쪽으로 3만큼 이동한다\n",
    "# (이진수 변환하는게 아니고)\n",
    "eval.left_rotate(ciphertext_1, 3, result_left_rot)\n",
    "\n",
    "result_left_rot_message = heaan.Message(log_slots)\n",
    "dec.decrypt(result_left_rot, sk, result_left_rot_message)\n",
    "print(\"left_rotate : \", result_left_rot_message)\n",
    "print()\n",
    "\n",
    "# right_rotate\n",
    "eval.right_rotate(ciphertext_1, 3, result_right_rot)\n",
    "\n",
    "result_right_rot_message = heaan.Message(log_slots)\n",
    "dec.decrypt(result_right_rot, sk, result_right_rot_message)\n",
    "print(\"right_rotate : \", result_right_rot_message)\n"
   ]
  },
  {
   "cell_type": "markdown",
   "metadata": {},
   "source": [
    "### rot_sum\n",
    "- rotate and add several distinct ciphertexts\n",
    "- rot_sum(self: piheaan.HomEvaluator, \n",
    "            arg0: List[piheaan.Ciphertext], \n",
    "            arg1: List[int], \n",
    "            arg2: piheaan.Ciphertext)\n",
    "\n",
    "- Type of 0th and 1st parameters are 'List'\n",
    "- The order and position of arg0 and arg1 must be matched\n",
    "    - (1) eval.rot_sum([ctxt1, ctxt2], [2], ctxt3) => is only the result left rotate 2 slots for ctxt1\n",
    "    - (2) eval.rot_sum([ctxt1], [2, 3], ctxt3) => error!"
   ]
  },
  {
   "cell_type": "code",
   "execution_count": 12,
   "metadata": {},
   "outputs": [
    {
     "name": "stdout",
     "output_type": "stream",
     "text": [
      "rot_sum :  [ (0.700000+0.000000j), (0.900000+0.000000j), (1.100000+0.000000j), (1.300000+0.000000j), (1.500000+0.000000j), (0.900000+0.000000j), (0.300000+0.000000j), (0.500000+0.000000j) ]\n"
     ]
    }
   ],
   "source": [
    "result_rot_sum = heaan.Ciphertext(context)\n",
    "\n",
    "eval.rot_sum([ciphertext_1, ciphertext_2], [2, 2], result_rot_sum) \n",
    "# 만약 두 개의 ciphertext를 회전하는 경우에는 [2, 2]를 사용해야 한다.\n",
    "# 하나의 ciphertext만 회전하는 경우 [2]를 사용할 수 있다.\n",
    "# [2]를 사용하면 첫 번째 ciphertext만 회전하고\n",
    "# 두 번째 ciphertext는 그대로 유지된다.\n",
    "\n",
    "result_rot_sum_message = heaan.Message(log_slots)\n",
    "dec.decrypt(result_rot_sum, sk, result_rot_sum_message)\n",
    "print(\"rot_sum : \", result_rot_sum_message)"
   ]
  },
  {
   "cell_type": "code",
   "execution_count": 13,
   "metadata": {},
   "outputs": [
    {
     "name": "stdout",
     "output_type": "stream",
     "text": [
      "ciphertext_1 :  [ (0.100000+0.000000j), (0.200000+0.000000j), (0.300000+0.000000j), (0.400000+0.000000j), (0.500000+0.000000j), (0.600000+0.000000j), (0.700000+0.000000j), (0.800000+0.000000j) ]\n",
      "ciphertext_2 :  [ (0.200000+0.000000j), (0.300000+0.000000j), (0.400000+0.000000j), (0.500000+0.000000j), (0.600000+0.000000j), (0.700000+0.000000j), (0.800000+0.000000j), (0.100000+0.000000j) ]\n",
      "\n",
      "result :  [ (0.700000+0.000000j), (0.900000+0.000000j), (1.100000+0.000000j), (1.300000+0.000000j), (1.500000+0.000000j), (0.900000+0.000000j), (0.300000+0.000000j), (0.500000+0.000000j) ]\n"
     ]
    }
   ],
   "source": [
    "# redeclaration\n",
    "ciphertext_1 = heaan.Ciphertext(context)\n",
    "ciphertext_2 = heaan.Ciphertext(context)\n",
    "enc.encrypt(message_1, pk, ciphertext_1)\n",
    "enc.encrypt(message_2, pk, ciphertext_2)\n",
    "\n",
    "print(\"ciphertext_1 : \", message_1)\n",
    "print(\"ciphertext_2 : \", message_2)\n",
    "# message_2 는 0.2~0.8, 0.1\n",
    "print()\n",
    "\n",
    "# \"rot_sum\" performs the following process at once\n",
    "res1 = heaan.Ciphertext(context)\n",
    "res2 = heaan.Ciphertext(context)\n",
    "eval.left_rotate(ciphertext_1, 2, res1)\n",
    "eval.left_rotate(ciphertext_2, 2, res2)\n",
    "eval.add(res1, res2, result_rot_sum)\n",
    "\n",
    "message_ = heaan.Message(log_slots)\n",
    "dec.decrypt(result_rot_sum, sk, message_)\n",
    "print(\"result : \", message_)"
   ]
  },
  {
   "cell_type": "code",
   "execution_count": 68,
   "metadata": {
    "scrolled": true
   },
   "outputs": [
    {
     "name": "stdout",
     "output_type": "stream",
     "text": [
      "ciphertext_1 (level: 12, log(num slots): 3, data: [ (0.100000+0.000000j), (0.200000+0.000000j), (0.300000+0.000000j), (0.400000+0.000000j), (0.500000+0.000000j), (0.600000+0.000000j), (0.700000+0.000000j), (0.800000+0.000000j) ])\n",
      "\n",
      "ciphertext_2 (level: 12, log(num slots): 3, data: [ (0.200000+0.000000j), (0.300000+0.000000j), (0.400000+0.000000j), (0.500000+0.000000j), (0.600000+0.000000j), (0.700000+0.000000j), (0.800000+0.000000j), (0.100000+0.000000j) ])\n",
      "\n",
      "result_rot_sum (level: 12, log(num slots): 3, data: [ (0.300000+0.000000j), (0.400000+0.000000j), (0.500000+0.000000j), (0.600000+0.000000j), (0.700000+0.000000j), (0.800000+0.000000j), (0.100000+0.000000j), (0.200000+0.000000j) ])\n",
      "\n",
      "(1) rot_sum :  [ (0.300000+0.000000j), (0.400000+0.000000j), (0.500000+0.000000j), (0.600000+0.000000j), (0.700000+0.000000j), (0.800000+0.000000j), (0.100000+0.000000j), (0.200000+0.000000j) ]\n"
     ]
    }
   ],
   "source": [
    "# (1)\n",
    "result_rot_sum = heaan.Ciphertext(context)\n",
    "\n",
    "print(\"ciphertext_1\", ciphertext_1)\n",
    "print()\n",
    "print(\"ciphertext_2\", ciphertext_2)\n",
    "print()\n",
    "\n",
    "eval.rot_sum([ciphertext_1, ciphertext_2], [2], result_rot_sum)\n",
    "# [2]는 회전에 RotKey2.bin을 사용한다는 것을 의미합니다.\n",
    "# [9]를 입력하면 RotKey9.bin이 없다는 오류가 발생합니다.\n",
    "# 오류 메시지는 이전에 RotKey0.bin을 사용하려고 할 때 발생한 오류 메시지와 유사합니다.\n",
    "\n",
    "# 회전 매개변수로 [9]를 사용하고 있는데 오류가 발생하지 않는다면 사용 중인 라이브러리가\n",
    "# 회전 매개변수를 엄격하게 적용하지 않는다는 뜻입니다. 지정된 인덱스와 일치하는 회전 키가 있습니다.\n",
    "# 일부 구현에서는 특정 인덱스에 대한 회전 키를 사용할 수 없는 경우 기본 동작을 적용하거나 회전을 다르게 처리하여\n",
    "# 오류 없이 단순히 회전 작업을 수행할 수 있습니다.\n",
    "# 이 동작은 사용 중인 라이브러리에서 의도적인 것일 수 있으므로 엄격한 키 일치 요구 사항 없이 회전 작업을 유연하게 처리할 수 있습니다.\n",
    "# 그러나 암호화 작업의 보안이나 정확성에 영향을 미칠 수 있으므로 이 동작의 의미를 이해하는 것이 중요합니다.\n",
    "# 회전 키가 없을 때 회전 작업이 처리되는 방법을 이해하려면 항상 라이브러리의 설명서나 사양을 참조하세요.\n",
    "\n",
    "print(\"result_rot_sum\", result_rot_sum)\n",
    "print()\n",
    "\n",
    "result_rot_sum_message = heaan.Message(log_slots)\n",
    "dec.decrypt(result_rot_sum, sk, result_rot_sum_message)\n",
    "print(\"(1) rot_sum : \", result_rot_sum_message)"
   ]
  },
  {
   "cell_type": "markdown",
   "metadata": {},
   "source": [
    "### left_rotate_reduce / right_rotate_reduce\n",
    "- You can use it in many rotating ways\n",
    "- left_rotate_reduce(self: piheaan.HomEvaluator, arg0: piheaan.Ciphertext, \n",
    "\t       arg1: int, arg2: int, arg3: piheaan.Ciphertext)\n",
    "- left_rotate_reduce works the same way as right_rotate_reduce with the different rotate direction"
   ]
  },
  {
   "cell_type": "code",
   "execution_count": 182,
   "metadata": {},
   "outputs": [
    {
     "name": "stdout",
     "output_type": "stream",
     "text": [
      "ciphertext_1 (level: 12, log(num slots): 3, data: [ (0.100000+0.000000j), (0.200000+0.000000j), (0.300000+0.000000j), (0.400000+0.000000j), (0.500000+0.000000j), (0.600000+0.000000j), (0.700000+0.000000j), (0.800000+0.000000j) ])\n",
      "ciphertext_2 (level: 12, log(num slots): 3, data: [ (0.200000+0.000000j), (0.300000+0.000000j), (0.400000+0.000000j), (0.500000+0.000000j), (0.600000+0.000000j), (0.700000+0.000000j), (0.800000+0.000000j), (0.100000+0.000000j) ])\n"
     ]
    }
   ],
   "source": [
    "# redeclaration\n",
    "ciphertext_1 = heaan.Ciphertext(context)\n",
    "ciphertext_2 = heaan.Ciphertext(context)\n",
    "enc.encrypt(message_1, pk, ciphertext_1)\n",
    "enc.encrypt(message_2, pk, ciphertext_2)\n",
    "print(\"ciphertext_1\", ciphertext_1)\n",
    "print(\"ciphertext_2\", ciphertext_2)"
   ]
  },
  {
   "cell_type": "code",
   "execution_count": 225,
   "metadata": {},
   "outputs": [
    {
     "name": "stdout",
     "output_type": "stream",
     "text": [
      "log_slots:  3\n",
      "\n",
      "(1) right_rotate_reduce :  [ (2.700000+0.000000j), (2.400000+0.000000j), (2.100000+0.000000j), (1.800000+0.000000j), (1.500000+0.000000j), (2.000000+0.000000j), (2.500000+0.000000j), (3.000000+0.000000j) ]\n",
      "\n",
      "ciphertext_1 (level: 12, log(num slots): 3, data: [ (0.100000+0.000000j), (0.200000+0.000000j), (0.300000+0.000000j), (0.400000+0.000000j), (0.500000+0.000000j), (0.600000+0.000000j), (0.700000+0.000000j), (0.800000+0.000000j) ])\n",
      "\n",
      "(1) same result :  [ (2.700000+0.000000j), (2.400000+0.000000j), (2.100000+0.000000j), (1.800000+0.000000j), (1.500000+0.000000j), (2.000000+0.000000j), (2.500000+0.000000j), (3.000000+0.000000j) ]\n"
     ]
    }
   ],
   "source": [
    "print(\"log_slots: \", log_slots)\n",
    "print()\n",
    "\n",
    "# (1)\n",
    "msg_result_rigt_rot_reduce1=heaan.Message(log_slots)\n",
    "result_right_rot_reduce1 = heaan.Ciphertext(context)\n",
    "enc.encrypt(msg_result_rigt_rot_reduce1, pk,result_right_rot_reduce1 )\n",
    "\n",
    "eval.right_rotate_reduce(ciphertext_1, 1, 5, result_right_rot_reduce1)\n",
    "#????????????????????????????????????????????\n",
    "#코드가 실행할 때마다 결과가 달라지는데???????????\n",
    "\n",
    "result_right_rot_reduce_message = heaan.Message(log_slots)\n",
    "dec.decrypt(result_right_rot_reduce1, sk, result_right_rot_reduce_message)\n",
    "print(\"(1) right_rotate_reduce : \", result_right_rot_reduce_message)\n",
    "print()\n",
    "\n",
    "print(\"ciphertext_1\", ciphertext_1)\n",
    "#코드가 실행할 때마다 결과가 달라지는데???????????\n",
    "print()\n",
    "\n",
    "# This is the same result..\n",
    "\n",
    "msg_result_rigt_rot_reduce1=heaan.Message(log_slots)\n",
    "result_right_rot_reduce1 = heaan.Ciphertext(context)\n",
    "enc.encrypt(msg_result_rigt_rot_reduce1, pk,result_right_rot_reduce1 )\n",
    "\n",
    "for i in range(5):\n",
    "    # 0, 1, 2, 3, 4\n",
    "    if i>0:\n",
    "        eval.right_rotate(ciphertext_1, 1, ciphertext_1)\n",
    "        # i가 0일 때는 이게 수행이 안되니깐\n",
    "    eval.add(ciphertext_1, result_right_rot_reduce1, result_right_rot_reduce1)\n",
    "    #이러면 0.1 + 0.8 + 0.7 + 0.6 + 0.5 = 2.7이 맞음.\n",
    "\n",
    "result_right_rot_reduce_message = heaan.Message(log_slots)\n",
    "dec.decrypt(result_right_rot_reduce1, sk, result_right_rot_reduce_message)\n",
    "print(\"(1) same result : \", result_right_rot_reduce_message)"
   ]
  },
  {
   "cell_type": "code",
   "execution_count": 226,
   "metadata": {},
   "outputs": [],
   "source": [
    "# redeclaration\n",
    "ciphertext_1 = heaan.Ciphertext(context)\n",
    "ciphertext_2 = heaan.Ciphertext(context)\n",
    "enc.encrypt(message_1, pk, ciphertext_1)\n",
    "enc.encrypt(message_2, pk, ciphertext_2)"
   ]
  },
  {
   "cell_type": "code",
   "execution_count": 246,
   "metadata": {},
   "outputs": [
    {
     "name": "stdout",
     "output_type": "stream",
     "text": [
      "(2) right_rotate_reduce :  [ (0.900000+0.000000j), (1.100000+0.000000j), (1.300000+0.000000j), (0.700000+0.000000j), (0.900000+0.000000j), (1.100000+0.000000j), (0.500000+0.000000j), (0.700000+0.000000j) ]\n",
      "\n",
      "(2) same result :  [ (0.900000+0.000000j), (1.100000+0.000000j), (1.300000+0.000000j), (0.700000+0.000000j), (0.900000+0.000000j), (1.100000+0.000000j), (0.500000+0.000000j), (0.700000+0.000000j) ]\n"
     ]
    }
   ],
   "source": [
    "# (2)\n",
    "msg_result_rigt_rot_reduce2=heaan.Message(log_slots)\n",
    "result_right_rot_reduce2 = heaan.Ciphertext(context)\n",
    "enc.encrypt(msg_result_rigt_rot_reduce2, pk,result_right_rot_reduce2 )\n",
    "\n",
    "\n",
    "eval.right_rotate_reduce(ciphertext_2, 5, 2, result_right_rot_reduce2)\n",
    "\n",
    "result_right_rot_reduce_message = heaan.Message(log_slots)\n",
    "dec.decrypt(result_right_rot_reduce2, sk, result_right_rot_reduce_message)\n",
    "print(\"(2) right_rotate_reduce : \", result_right_rot_reduce_message)\n",
    "print()\n",
    "\n",
    "\n",
    "# This is the same result..\n",
    "msg_result_rigt_rot_reduce2=heaan.Message(log_slots)\n",
    "result_right_rot_reduce2 = heaan.Ciphertext(context)\n",
    "enc.encrypt(msg_result_rigt_rot_reduce2, pk,result_right_rot_reduce2 )\n",
    "for i in range(2):\n",
    "    if i>0:\n",
    "        eval.right_rotate(ciphertext_2, 5, ciphertext_2)\n",
    "    eval.add(ciphertext_2, result_right_rot_reduce2, result_right_rot_reduce2)\n",
    "\n",
    "result_right_rot_reduce_message = heaan.Message(log_slots)\n",
    "dec.decrypt(result_right_rot_reduce2, sk, result_right_rot_reduce_message)\n",
    "print(\"(2) same result : \", result_right_rot_reduce_message)"
   ]
  },
  {
   "cell_type": "code",
   "execution_count": 257,
   "metadata": {},
   "outputs": [
    {
     "name": "stdout",
     "output_type": "stream",
     "text": [
      "(3) result :  [ (3.600000+0.000000j), (0.000000+0.000000j), (0.000000+0.000000j), (0.000000+0.000000j), (0.000000+0.000000j), (0.000000+0.000000j), (0.000000+0.000000j), (0.000000+0.000000j) ]\n"
     ]
    }
   ],
   "source": [
    "# (3)\n",
    "# if you want to calculate the sum of ctxt1, you can use this!\n",
    "data_masking_1 = [1] + [0]*(num_slots-1)\n",
    "masking_1 = heaan.Message(log_slots)\n",
    "for i in range(num_slots):\n",
    "    masking_1[i] = data_masking_1[i]\n",
    "\n",
    "res3 = heaan.Ciphertext(context)\n",
    "\n",
    "eval.left_rotate_reduce(ciphertext_1, 1, num_slots, res3)\n",
    "eval.mult(res3, masking_1, res3)\n",
    "\n",
    "res3_message = heaan.Message(log_slots)\n",
    "dec.decrypt(res3, sk, res3_message)\n",
    "print(\"(3) result : \", res3_message)"
   ]
  },
  {
   "cell_type": "markdown",
   "metadata": {},
   "source": [
    "### bootstrap / min_level_for_bootstrap\n",
    "- the level of ciphertext is a value that indicates how many times multiplication can be performed using this ciphertext\n",
    "- if the level of ciphertext becomes min_level_for_bootstrap, you have to do \"bootstrap\"\n",
    "- if the level of ciphertext exceeds 'min_level_for_bootstrap', you cannot perform bootstrap.\n",
    "- Bootstrap must be done before the level reaches 3 or below\n",
    "- Then the level is restored\n",
    "- So you can continue the operation continuously\n",
    "\n",
    "- bootstrap(self: piheaan.HomEvaluator, arg0: piheaan.Ciphertext, \n",
    "\t\targ1: piheaan.Ciphertext)"
   ]
  },
  {
   "cell_type": "code",
   "execution_count": 261,
   "metadata": {},
   "outputs": [
    {
     "name": "stdout",
     "output_type": "stream",
     "text": [
      "1) check ctxt3 level :  11\n",
      "2) after 10 times mult.. ctxt3 level :  3\n",
      "3) after bootstrap! ctxt3 level :  12\n"
     ]
    }
   ],
   "source": [
    "# Lets down the level of ciphertext\n",
    "result_mult = heaan.Ciphertext(context)\n",
    "\n",
    "eval.mult(ciphertext_1, ciphertext_1, result_mult)\n",
    "print(\"1) check ctxt3 level : \", result_mult.level) # if you print 'ciphertext.level', you can check the level of ciphertext\n",
    "for i in range(result_mult.level - eval.min_level_for_bootstrap):\n",
    "    eval.mult(result_mult, result_mult, result_mult)\n",
    "print(\"2) after 10 times mult.. ctxt3 level : \", result_mult.level) # 23 -> 3\n",
    "# Now you cannot do multiplication!\n",
    "\n",
    "#eval.mult(result_mult, result_mult, result_mult)\n",
    "#이거 실행하면 untimeError: [bootstrap] Level of ciphertext should be >= 3. 오류남\n",
    "\n",
    "# So now..\n",
    "eval.bootstrap(result_mult, result_mult)\n",
    "print(\"3) after bootstrap! ctxt3 level : \", result_mult.level) # now you can do multiplication 12 times"
   ]
  },
  {
   "cell_type": "code",
   "execution_count": 262,
   "metadata": {},
   "outputs": [
    {
     "data": {
      "text/plain": [
       "3"
      ]
     },
     "execution_count": 262,
     "metadata": {},
     "output_type": "execute_result"
    }
   ],
   "source": [
    "# you can check minmum level for bootstrap\n",
    "eval.min_level_for_bootstrap"
   ]
  },
  {
   "cell_type": "markdown",
   "metadata": {},
   "source": [
    "# 02 heaan.math.sort"
   ]
  },
  {
   "cell_type": "markdown",
   "metadata": {},
   "source": [
    "### sort\n",
    "- input range : -0.5 ~ 0.5\n",
    "- 4th parameter(boolean) : False = descending, True = ascending\n",
    "- 5th parameter(boolean) is False(default)\n",
    "- sort(arg0: piheaan.HomEvaluator, \n",
    "        arg1: input : piheaan.Ciphertext, \n",
    "        arg2: result : piheaan.Ciphertext, \n",
    "        arg3: n : int, \n",
    "        arg4: ascent : bool, \n",
    "        arg5: only_last_stage : bool)\n",
    "        \n",
    "\n",
    "arg0: 암호문 정렬을 수행하는 데 사용되는 HomEvaluator 객체입니다.\n",
    "\n",
    "arg1: 정렬할 입력 암호문 (piheaan.Ciphertext)입니다.\n",
    "\n",
    "arg2: 정렬된 결과를 저장할 암호문 (piheaan.Ciphertext)입니다.\n",
    "\n",
    "arg3: 정렬할 범위의 크기를 지정하는 정수입니다.\n",
    "\n",
    "arg4: 정렬 순서를 결정하는 부울 값입니다. False는 내림차순을 나타내고, True는 오름차순을 나타냅니다.\n",
    "\n",
    "arg5: 옵션으로, 마지막 단계에서만 정렬을 수행할지 여부를 결정하는 부울 값입니다. 디폴트 값은 False입니다."
   ]
  },
  {
   "cell_type": "code",
   "execution_count": 266,
   "metadata": {},
   "outputs": [
    {
     "name": "stdout",
     "output_type": "stream",
     "text": [
      "[ (0.173652+0.000000j), (-0.123486+0.000000j), (-0.196617+0.000000j), (-0.038729+0.000000j), (-0.043230+0.000000j), (0.180907+0.000000j), (-0.281816+0.000000j), (-0.143787+0.000000j) ]\n"
     ]
    }
   ],
   "source": [
    "log_slots = 3\n",
    "num_slots = 2 ** log_slots\n",
    "\n",
    "data3 = np.random.uniform(size=num_slots)-0.5\n",
    "# -0.5에서 0.5 사이의 균일하게 분포된 난수를 생성.\n",
    "\n",
    "message_3 = heaan.Message(log_slots)\n",
    "for i in range(num_slots):\n",
    "    message_3[i]=data3[i]\n",
    "print(message_3)\n",
    "\n",
    "ciphertext_3 = heaan.Ciphertext(context)\n",
    "enc.encrypt(message_3, pk, ciphertext_3)"
   ]
  },
  {
   "cell_type": "code",
   "execution_count": 269,
   "metadata": {},
   "outputs": [
    {
     "name": "stdout",
     "output_type": "stream",
     "text": [
      "sort :  [ (-0.281816+0.000000j), (-0.196617+0.000000j), (-0.143787+0.000000j), (-0.123486+0.000000j), (-0.043230+0.000000j), (-0.038729+0.000000j), (0.173652+0.000000j), (0.180907+0.000000j) ]\n"
     ]
    }
   ],
   "source": [
    "# Input range : -0.5 ~ 0.5\n",
    "\n",
    "ciphertext_out_sort = heaan.Ciphertext(context)\n",
    "sort.sort(eval, ciphertext_3, ciphertext_out_sort, num_slots, True) # 4th boolean: 0: descending, 1 : ascending order\n",
    "# 오름 차순으로 정렬했다.\n",
    "\n",
    "message_out_sort = heaan.Message(log_slots)\n",
    "\n",
    "dec.decrypt(ciphertext_out_sort, sk, message_out_sort)\n",
    "\n",
    "print(\"sort : \", message_out_sort)"
   ]
  },
  {
   "cell_type": "markdown",
   "metadata": {},
   "source": [
    "# 03 heaan.math.approx"
   ]
  },
  {
   "cell_type": "markdown",
   "metadata": {},
   "source": [
    "### compare\n",
    "- compare the slots of different ciphertexts and identify which value is greater or smaller\n",
    "- input range : 2^-18 < |x-y| < 1\n",
    "- compare(arg0: piheaan.HomEvaluator, \n",
    "            arg1: piheaan.Ciphertext, \n",
    "            arg2: piheaan.Ciphertext, \n",
    "            arg3: piheaan.Ciphertext)\n",
    "\n",
    "- if the value in slot of arg1 > arg2, then return 1\n",
    "- if the value in slot of arg1 < arg2, then return 0\n",
    "- if the value in slot of arg1 == arg2, then return 0.5\n",
    "\n",
    "슬롯의 값이 arg1에 있는 값이 arg2에 있는 값보다 큰 경우, 해당 슬롯에는 1이 저장됩니다.\n",
    "\n",
    "슬롯의 값이 arg1에 있는 값이 arg2에 있는 값보다 작은 경우, 해당 슬롯에는 0이 저장됩니다.\n",
    "\n",
    "슬롯의 값이 arg1에 있는 값이 arg2에 있는 값과 같은 경우, 해당 슬롯에는 0.5가 저장됩니다."
   ]
  },
  {
   "cell_type": "code",
   "execution_count": 279,
   "metadata": {},
   "outputs": [
    {
     "name": "stdout",
     "output_type": "stream",
     "text": [
      "message_3 :  [ (0.278795+0.000000j), (0.325972+0.000000j), (0.197389+0.000000j), (0.697901+0.000000j), (0.303725+0.000000j), (0.840289+0.000000j), (0.859296+0.000000j), (0.831367+0.000000j) ]\n",
      "\n",
      "message_4 :  [ (0.314981+0.000000j), (0.239097+0.000000j), (0.627870+0.000000j), (0.377105+0.000000j), (0.271823+0.000000j), (0.576858+0.000000j), (0.605792+0.000000j), (0.666773+0.000000j) ]\n"
     ]
    }
   ],
   "source": [
    "data3 = np.random.uniform(size=num_slots)\n",
    "data4 = np.random.uniform(size=num_slots)\n",
    "message_3 = heaan.Message(log_slots)\n",
    "message_4 = heaan.Message(log_slots)\n",
    "for i in range(num_slots):\n",
    "    message_3[i]=data3[i]\n",
    "    message_4[i]=data4[i]\n",
    "\n",
    "print(\"message_3 : \", message_3)\n",
    "print()\n",
    "print(\"message_4 : \", message_4)"
   ]
  },
  {
   "cell_type": "code",
   "execution_count": 280,
   "metadata": {},
   "outputs": [],
   "source": [
    "ciphertext_3 = heaan.Ciphertext(context)\n",
    "ciphertext_4 = heaan.Ciphertext(context)\n",
    "result_compare = heaan.Ciphertext(context)\n",
    "\n",
    "enc.encrypt(message_3, pk, ciphertext_3)\n",
    "enc.encrypt(message_4, pk, ciphertext_4)"
   ]
  },
  {
   "cell_type": "code",
   "execution_count": 281,
   "metadata": {},
   "outputs": [
    {
     "name": "stdout",
     "output_type": "stream",
     "text": [
      "result_comp_message :  [ (0.000000+0.000000j), (1.000000+0.000000j), (0.000000+0.000000j), (1.000000+0.000000j), (1.000000+0.000000j), (1.000000+0.000000j), (1.000000+0.000000j), (1.000000+0.000000j) ]\n"
     ]
    }
   ],
   "source": [
    "approx.compare(eval, ciphertext_3, ciphertext_4, result_compare)\n",
    "\n",
    "result_comp_message = heaan.Message(log_slots)\n",
    "dec.decrypt(result_compare, sk, result_comp_message)\n",
    "print(\"result_comp_message : \", result_comp_message)"
   ]
  },
  {
   "cell_type": "markdown",
   "metadata": {},
   "source": [
    "### discrete_equal\n",
    "- compare two ciphertexts and identify whether they have the smae value\n",
    "- input range : |x| ≤ 54 (x : int)\n",
    "- compare two ciphertexts and identify whether they have the same value\n",
    "- discrete_equal(eval: piheaan.HomEvaluator, \n",
    "                    op1: piheaan.Ciphertext, \n",
    "                    op2: piheaan.Ciphertext, \n",
    "                    res: piheaan.Ciphertext)\n",
    "\n",
    "\n",
    "### discrete_equal_zero\n",
    "- compare a ciphertest with 0 and identify whether the value of the ciphertext is equal to 0\n",
    "- input range : |x| ≤ 54 (x : int)\n",
    "- discrete_equal_zero(arg0: piheaan.HomEvaluator, \n",
    "                      arg1: piheaan.Ciphertext, \n",
    "\t\t              arg2: piheaan.Ciphertext)\n",
    "                      \n",
    "                      \n",
    "이 함수들은 다음과 같은 작업을 수행합니다:\n",
    "\n",
    "1. **discrete_equal**:\n",
    "   - 주어진 두 개의 암호문 객체(op1 및 op2)에 대해 각 슬롯별로 값을 비교합니다. \n",
    "   - 만약 두 암호문이 동일한 값을 가지고 있다면, 결과 암호문(res)에 해당 슬롯에 1이 저장됩니다. 그렇지 않으면 0이 저장됩니다.\n",
    "\n",
    "2. **discrete_equal_zero**:\n",
    "   - 주어진 암호문 객체(arg1)에 대해 각 슬롯별로 값이 0과 동일한지 확인합니다.\n",
    "   - 암호문 객체(arg1)에 대해 각 슬롯을 순회하면서 해당 슬롯의 값이 0과 같은지 확인합니다.\n",
    "   - 만약 암호문이 0과 동일한 값을 가지고 있다면, 결과 암호문(arg2)에 해당 슬롯에 1이 저장됩니다. 그렇지 않으면 0이 저장됩니다.\n",
    "\n",
    "이를 통해 두 암호문의 값이 서로 같은지, 또는 암호문의 값이 0인지 여부를 확인할 수 있습니다."
   ]
  },
  {
   "cell_type": "code",
   "execution_count": 292,
   "metadata": {},
   "outputs": [
    {
     "name": "stdout",
     "output_type": "stream",
     "text": [
      "message_5 :  [ (0.000000+0.000000j), (1.000000+0.000000j), (2.000000+0.000000j), (3.000000+0.000000j), (4.000000+0.000000j), (5.000000+0.000000j), (6.000000+0.000000j), (7.000000+0.000000j) ]\n",
      "\n",
      "message_6 :  [ (0.000000+0.000000j), (1.000000+0.000000j), (2.000000+0.000000j), (3.000000+0.000000j), (0.000000+0.000000j), (0.000000+0.000000j), (2.000000+0.000000j), (0.000000+0.000000j) ]\n"
     ]
    }
   ],
   "source": [
    "data5 = [i for i in range(num_slots)]\n",
    "data6 = [0, 1, 2, 3, 0, 0, 2, 0]\n",
    "message_5 = heaan.Message(log_slots)\n",
    "message_6 = heaan.Message(log_slots)\n",
    "for i in range(num_slots):\n",
    "    message_5[i]=data5[i]\n",
    "    message_6[i]=data6[i]\n",
    "\n",
    "print(\"message_5 : \", message_5)\n",
    "print()\n",
    "print(\"message_6 : \", message_6)"
   ]
  },
  {
   "cell_type": "code",
   "execution_count": 294,
   "metadata": {},
   "outputs": [
    {
     "name": "stdout",
     "output_type": "stream",
     "text": [
      "message_5 : [ (0.000000+0.000000j), (1.000000+0.000000j), (2.000000+0.000000j), (3.000000+0.000000j), (4.000000+0.000000j), (5.000000+0.000000j), (6.000000+0.000000j), (7.000000+0.000000j) ]\n",
      "\n",
      "message_6 : [ (0.000000+0.000000j), (1.000000+0.000000j), (2.000000+0.000000j), (3.000000+0.000000j), (0.000000+0.000000j), (0.000000+0.000000j), (2.000000+0.000000j), (0.000000+0.000000j) ]\n",
      "\n",
      "discrete_equal result :  [ (1.000000+0.000000j), (1.000000+0.000000j), (1.000000+0.000000j), (1.000000+0.000000j), (0.000000+0.000000j), (0.000000+0.000000j), (0.000000+0.000000j), (0.000000+0.000000j) ]\n",
      "\n",
      "discrete_equal_zero result :  [ (1.000000+0.000000j), (0.000000+0.000000j), (0.000000+0.000000j), (0.000000+0.000000j), (1.000000+0.000000j), (1.000000+0.000000j), (0.000000+0.000000j), (1.000000+0.000000j) ]\n"
     ]
    }
   ],
   "source": [
    "ciphertext_5 = heaan.Ciphertext(context)\n",
    "ciphertext_6 = heaan.Ciphertext(context)\n",
    "\n",
    "enc.encrypt(message_5, pk, ciphertext_5)\n",
    "enc.encrypt(message_6, pk, ciphertext_6)\n",
    "\n",
    "# ciphertext5_left_rotate = heaan.Ciphertext(context)  \n",
    "# eval.left_rotate(ciphertext_5, 5, ciphertext5_left_rotate)  # 5번 암호문을 좌측으로 5칸 로테이션\n",
    "\n",
    "result_discrete_equal = heaan.Ciphertext(context)\n",
    "result_discrete_equal_zero = heaan.Ciphertext(context)\n",
    "approx.discrete_equal(eval, ciphertext_5, ciphertext_6, result_discrete_equal)\n",
    "\n",
    "# result_discrete_equal_zero는 ciphertext_6 만 사용함!!!\n",
    "approx.discrete_equal_zero(eval, ciphertext_6, result_discrete_equal_zero)\n",
    "# approx.discrete_equal(eval, ciphertext_5, ciphertext5_left_rotate, result_discrete_equal_rotate)\n",
    "\n",
    "result_discrete_equal_message = heaan.Message(log_slots)\n",
    "dec.decrypt(result_discrete_equal, sk, result_discrete_equal_message) # 5번과 6번 메시지 비교\n",
    "\n",
    "result_discrete_equal_zero_message = heaan.Message(log_slots)\n",
    "dec.decrypt(result_discrete_equal_zero, sk, result_discrete_equal_zero_message) # 5번과 로테이션 비교\n",
    "\n",
    "print('message_5 :',message_5)\n",
    "print()\n",
    "print('message_6 :', message_6)\n",
    "print()\n",
    "print('discrete_equal result : ', result_discrete_equal_message)\n",
    "print()\n",
    "print('discrete_equal_zero result : ', result_discrete_equal_zero_message)"
   ]
  },
  {
   "cell_type": "markdown",
   "metadata": {},
   "source": [
    "### inverse\n",
    "- take the inverse of the value of the ciphertext\n",
    "- input range : 1 ≤ x ≤ 2^22 or 2^-10 ≤ x ≤ 1\n",
    "- inverse(arg0: piheaan.HomEvaluator, \n",
    "          arg1: piheaan.Ciphertext, \n",
    "\t\t  arg2: piheaan.Ciphertext)\n",
    "\n",
    "          \n",
    "- inverse(eval: piheaan.HomEvaluator, \n",
    "            op: piheaan.Ciphertext, \n",
    "            res: piheaan.Ciphertext, \n",
    "            init: Optional[float] = None, \n",
    "            num_iter: Optional[int] = None, \n",
    "            greater_than_one: bool = True)\n",
    "            \n",
    "- defaul values are init=pow(2, -18), num_iter=23 if greater_than_one==true,\n",
    "- otherwise init=pow(2, -10), num_iter=15"
   ]
  },
  {
   "cell_type": "code",
   "execution_count": 307,
   "metadata": {},
   "outputs": [
    {
     "name": "stdout",
     "output_type": "stream",
     "text": [
      "message:  [ (1.000000+0.000000j), (2.000000+0.000000j), (3.000000+0.000000j), (4.000000+0.000000j), (5.000000+0.000000j), (6.000000+0.000000j), (7.000000+0.000000j), (8.000000+0.000000j) ]\n"
     ]
    }
   ],
   "source": [
    "data = [i for i in range(1, num_slots+1)]\n",
    "message = heaan.Message(log_slots)\n",
    "for i in range(num_slots):\n",
    "    message[i] = data[i]\n",
    "    \n",
    "print(\"message: \", message)"
   ]
  },
  {
   "cell_type": "code",
   "execution_count": 308,
   "metadata": {},
   "outputs": [
    {
     "name": "stdout",
     "output_type": "stream",
     "text": [
      "inverse : [ (1.000000+0.000000j), (0.500000+0.000000j), (0.333333+0.000000j), (0.250000+0.000000j), (0.200000+0.000000j), (0.166667+0.000000j), (0.142857+0.000000j), (0.125000+0.000000j) ]\n"
     ]
    }
   ],
   "source": [
    "ciphertext = heaan.Ciphertext(context)\n",
    "result_inv = heaan.Ciphertext(context)\n",
    "\n",
    "enc.encrypt(message, pk, ciphertext)\n",
    "approx.inverse(eval, ciphertext, result_inv) \n",
    "\n",
    "decryptor = heaan.Decryptor(context)\n",
    "result_inv_message = heaan.Message(log_slots)\n",
    "\n",
    "decryptor.decrypt(result_inv, sk, result_inv_message)\n",
    "\n",
    "print('inverse :', result_inv_message) # "
   ]
  },
  {
   "cell_type": "markdown",
   "metadata": {},
   "source": [
    "### log\n",
    "- input range : 1 ≤ x ≤ 2^22\n",
    "- approx.log : 3th parameter is the number 'base' (ex. 2, 10, e, ...)\n",
    "- log(arg0: piheaan.HomEvaluator, \n",
    "        arg1: input : piheaan.Ciphertext, \n",
    "        arg2: result : piheaan.Ciphertext, \n",
    "        arg3: float)\n"
   ]
  },
  {
   "cell_type": "code",
   "execution_count": 309,
   "metadata": {},
   "outputs": [],
   "source": [
    "log_slots = 3\n",
    "num_slots = 2 ** log_slots\n",
    "\n",
    "data = [i for i in range(num_slots)]\n",
    "message = heaan.Message(log_slots)\n",
    "for i in range(num_slots):\n",
    "    message[i] = data[i]\n",
    "\n",
    "ciphertext = heaan.Ciphertext(context)\n",
    "enc.encrypt(message, pk, ciphertext)"
   ]
  },
  {
   "cell_type": "code",
   "execution_count": 310,
   "metadata": {},
   "outputs": [],
   "source": [
    "ciphertext_log_2 = heaan.Ciphertext(context)\n",
    "ciphertext_log_10 = heaan.Ciphertext(context)\n",
    "ciphertext_log_e = heaan.Ciphertext(context)\n",
    "ciphertext_log_ = heaan.Ciphertext(context)\n",
    "\n",
    "approx.log(eval, ciphertext, ciphertext_log_, 2)\n",
    "# approx.log 함수는 기본적으로 밑이 2인 로그를 계산합니다. \n",
    "\n",
    "approx.log_2(eval, ciphertext, ciphertext_log_2)  #  1 ~ 2^18\n",
    "approx.log_10(eval, ciphertext, ciphertext_log_10)  \n",
    "approx.log_e(eval, ciphertext, ciphertext_log_e)"
   ]
  },
  {
   "cell_type": "code",
   "execution_count": 312,
   "metadata": {},
   "outputs": [
    {
     "name": "stdout",
     "output_type": "stream",
     "text": [
      "message : [ (0.000000+0.000000j), (1.000000+0.000000j), (2.000000+0.000000j), (3.000000+0.000000j), (4.000000+0.000000j), (5.000000+0.000000j), (6.000000+0.000000j), (7.000000+0.000000j) ]\n",
      "\n",
      "log : [ (4492393500690405.500000+0.000000j), (0.000000+0.000000j), (1.000000+0.000000j), (1.584962+0.000000j), (2.000000+0.000000j), (2.321928+0.000000j), (2.584962+0.000000j), (2.807355+0.000000j) ]\n",
      "\n",
      "log_2 : [ (4492393500690405.500000+0.000000j), (0.000000+0.000000j), (1.000000+0.000000j), (1.584962+0.000000j), (2.000000+0.000000j), (2.321928+0.000000j), (2.584962+0.000000j), (2.807355+0.000000j) ]\n",
      "\n",
      "log_10 : [ (-338088477213185.375000+0.000000j), (-0.000000+0.000000j), (0.301030+0.000000j), (0.477121+0.000000j), (0.602060+0.000000j), (0.698970+0.000000j), (0.778151+0.000000j), (0.845098+0.000000j) ]\n",
      "\n",
      "log_e :  [ (3113889888969262.000000+0.000000j), (0.000000+0.000000j), (0.693147+0.000000j), (1.098612+0.000000j), (1.386294+0.000000j), (1.609438+0.000000j), (1.791759+0.000000j), (1.945910+0.000000j) ]\n"
     ]
    }
   ],
   "source": [
    "message_out = heaan.Message(log_slots)\n",
    "message_out_log_2 = heaan.Message(log_slots)\n",
    "message_out_log_10 = heaan.Message(log_slots)\n",
    "message_out_log_e = heaan.Message(log_slots)\n",
    "message_out_log_ = heaan.Message(log_slots)\n",
    "\n",
    "dec.decrypt(ciphertext, sk, message_out)\n",
    "dec.decrypt(ciphertext_log_, sk, message_out_log_)\n",
    "dec.decrypt(ciphertext_log_2, sk, message_out_log_2)\n",
    "dec.decrypt(ciphertext_log_10, sk, message_out_log_10)\n",
    "dec.decrypt(ciphertext_log_e, sk, message_out_log_e)\n",
    "\n",
    "print('message :', message_out)\n",
    "print()\n",
    "print('log :', message_out_log_)\n",
    "print()\n",
    "print('log_2 :', message_out_log_2)\n",
    "print()\n",
    "print('log_10 :', message_out_log_10)\n",
    "print()\n",
    "print('log_e : ', message_out_log_e)"
   ]
  },
  {
   "cell_type": "markdown",
   "metadata": {},
   "source": [
    "### relu\n",
    "- relu(arg0: piheaan.HomEvaluator, \n",
    "        arg1: piheaan.Ciphertext, \n",
    "        arg2: piheaan.Ciphertext)"
   ]
  },
  {
   "cell_type": "code",
   "execution_count": 378,
   "metadata": {},
   "outputs": [
    {
     "name": "stdout",
     "output_type": "stream",
     "text": [
      "[ (-0.055105+0.000000j), (0.376964+0.000000j), (0.153327+0.000000j), (-0.120547+0.000000j), (-0.051720+0.000000j), (0.174659+0.000000j), (0.011487+0.000000j), (0.449397+0.000000j) ]\n"
     ]
    }
   ],
   "source": [
    "data = np.random.uniform(2**(-18), 1, size=num_slots)-0.5\n",
    "message = heaan.Message(log_slots)\n",
    "for i in range(num_slots):\n",
    "    message[i] = data[i]\n",
    "print(message)\n",
    "\n",
    "ciphertext = heaan.Ciphertext(context)\n",
    "enc.encrypt(message, pk, ciphertext)"
   ]
  },
  {
   "cell_type": "code",
   "execution_count": 382,
   "metadata": {},
   "outputs": [],
   "source": [
    "# ReLU 함수는 입력값이 0보다 작으면 0으로, 그렇지 않으면 입력값을 그대로 반환하는 함수\n",
    "\n",
    "def ReLU(x):\n",
    "    return np.maximum(0, x)"
   ]
  },
  {
   "cell_type": "code",
   "execution_count": 383,
   "metadata": {},
   "outputs": [
    {
     "name": "stdout",
     "output_type": "stream",
     "text": [
      "[0.0, 0.3769641828152417, 0.15332684593209733, 0.0, 0.0, 0.17465882923353016, 0.011487327443324036, 0.4493973014807633]\n"
     ]
    }
   ],
   "source": [
    "plaintext_relu = []\n",
    "for x in message:\n",
    "    plaintext_relu.append(ReLU(x.real))\n",
    "\n",
    "print(plaintext_relu)"
   ]
  },
  {
   "cell_type": "code",
   "execution_count": 384,
   "metadata": {},
   "outputs": [
    {
     "name": "stdout",
     "output_type": "stream",
     "text": [
      "relu :  [ (-0.004471+0.000000j), (0.390297+0.000000j), (0.136015+0.000000j), (-0.016321+0.000000j), (-0.003457+0.000000j), (0.158155+0.000000j), (0.023340+0.000000j), (0.466729+0.000000j) ]\n"
     ]
    }
   ],
   "source": [
    "result_relu = heaan.Ciphertext(context)\n",
    "\n",
    "approx.relu(eval, ciphertext, result_relu)\n",
    "\n",
    "result_relu_message = heaan.Message(log_slots)\n",
    "dec.decrypt(result_relu, sk, result_relu_message)\n",
    "print(\"relu : \", result_relu_message)"
   ]
  },
  {
   "cell_type": "markdown",
   "metadata": {},
   "source": [
    "### sigmoid\n",
    "- sigmoid(arg0: piheaan.HomEvaluator, \n",
    "            arg1: piheaan.Ciphertext, \n",
    "            arg2: piheaan.Ciphertext, \n",
    "            arg3: float)"
   ]
  },
  {
   "cell_type": "code",
   "execution_count": 425,
   "metadata": {},
   "outputs": [],
   "source": [
    "# 시그모이드 함수는 입력값을 0과 1 사이의 값으로 압축하여 반환합니다. \n",
    "\n",
    "def sigmoid(x):\n",
    "    sig = 1 / (1 + math.exp(-x))\n",
    "    return sig"
   ]
  },
  {
   "cell_type": "code",
   "execution_count": 428,
   "metadata": {},
   "outputs": [
    {
     "name": "stdout",
     "output_type": "stream",
     "text": [
      "message_3:  [ (0.471595+0.000000j), (0.806226+0.000000j), (0.808984+0.000000j), (0.531331+0.000000j), (0.636259+0.000000j), (0.897418+0.000000j), (0.999041+0.000000j), (0.280128+0.000000j) ]\n",
      "\n",
      "message_4:  [ (0.277004+0.000000j), (0.544289+0.000000j), (0.406541+0.000000j), (0.659500+0.000000j), (0.504595+0.000000j), (0.143136+0.000000j), (0.808202+0.000000j), (0.856992+0.000000j) ]\n",
      "\n",
      "[0.615761124191004, 0.6913047779324281, 0.6918929929332897, 0.6297935385505767, 0.653907408433581, 0.7104186360985386, 0.7308700594885384, 0.5695776850404439]\n"
     ]
    }
   ],
   "source": [
    "data3 = np.random.uniform(size=num_slots)\n",
    "data4 = np.random.uniform(size=num_slots)\n",
    "message_3 = heaan.Message(log_slots)\n",
    "message_4 = heaan.Message(log_slots)\n",
    "for i in range(num_slots):\n",
    "    message_3[i]=data3[i]\n",
    "    message_4[i]=data4[i]\n",
    "\n",
    "print(\"message_3: \", message_3)\n",
    "print()\n",
    "print(\"message_4: \", message_4)\n",
    "print()\n",
    "\n",
    "plaintext_sigmoid = []\n",
    "for x in message_3:\n",
    "    plaintext_sigmoid.append(sigmoid(x.real))\n",
    "\n",
    "print(plaintext_sigmoid)"
   ]
  },
  {
   "cell_type": "code",
   "execution_count": 435,
   "metadata": {},
   "outputs": [
    {
     "name": "stdout",
     "output_type": "stream",
     "text": [
      "sigmoid :  [ (0.615760+0.000000j), (0.691306+0.000000j), (0.691894+0.000000j), (0.629792+0.000000j), (0.653907+0.000000j), (0.710420+0.000000j), (0.730872+0.000000j), (0.569576+0.000000j) ]\n"
     ]
    }
   ],
   "source": [
    "ciphertext_3 = heaan.Ciphertext(context)\n",
    "result_sigmoid = heaan.Ciphertext(context)\n",
    "\n",
    "enc.encrypt(message_3, pk, ciphertext_3)\n",
    "enc.encrypt(message_4, pk, ciphertext_4)\n",
    "\n",
    "approx.sigmoid(eval, ciphertext_3, result_sigmoid, 8.0)\n",
    "\n",
    "result_sigmoid_message = heaan.Message(log_slots)\n",
    "dec.decrypt(result_sigmoid, sk, result_sigmoid_message)\n",
    "print(\"sigmoid : \", result_sigmoid_message)"
   ]
  },
  {
   "cell_type": "markdown",
   "metadata": {},
   "source": [
    "### sign\n",
    "- input range 2^-18 < |x| < 1\n",
    "- sign(arg0: piheaan.HomEvaluator, \n",
    "       arg1: piheaan.Ciphertext, \n",
    "       arg2: piheaan.Ciphertext, \n",
    "       arg3: numiter_g : int, \n",
    "       arg4: numiter_f : int)\n",
    "\n",
    "- default : 3rd paramter = 8 and 4th paramter = 3"
   ]
  },
  {
   "cell_type": "code",
   "execution_count": 436,
   "metadata": {},
   "outputs": [
    {
     "name": "stdout",
     "output_type": "stream",
     "text": [
      "[ (0.045210+0.000000j), (0.862469+0.000000j), (0.691670+0.000000j), (-0.680415+0.000000j), (-0.913221+0.000000j), (-0.345130+0.000000j), (0.716206+0.000000j), (-0.230954+0.000000j) ]\n"
     ]
    }
   ],
   "source": [
    "data = np.random.uniform(-1, 1, size=num_slots)\n",
    "message = heaan.Message(log_slots)\n",
    "for i in range(num_slots):\n",
    "    message[i] = data[i]\n",
    "print(message)\n",
    "\n",
    "ciphertext = heaan.Ciphertext(context)\n",
    "enc.encrypt(message, pk, ciphertext)"
   ]
  },
  {
   "cell_type": "code",
   "execution_count": 438,
   "metadata": {},
   "outputs": [
    {
     "name": "stdout",
     "output_type": "stream",
     "text": [
      "sign :  [ (1.000000+0.000000j), (1.000000+0.000000j), (1.000000+0.000000j), (-1.000000+0.000000j), (-1.000000+0.000000j), (-1.000000+0.000000j), (1.000000+0.000000j), (-1.000000+0.000000j) ]\n"
     ]
    }
   ],
   "source": [
    "result_sign = heaan.Ciphertext(context)\n",
    "\n",
    "approx.sign(eval, ciphertext, result_sign)\n",
    "\n",
    "result_sign_message = heaan.Message(log_slots)\n",
    "dec.decrypt(result_sign, sk, result_sign_message)\n",
    "print(\"sign : \", result_sign_message)"
   ]
  },
  {
   "cell_type": "markdown",
   "metadata": {
    "tags": [
     "parameters"
    ]
   },
   "source": [
    "### min_max\n",
    "- compare two ciphertexts and return two ciphertexts with minimum value or maximum value\n",
    "- imnput range : 2^-18 < |x-y| < 1\n",
    "- min_max(eval: piheaan.HomEvaluator, \n",
    "            op1: piheaan.Ciphertext, \n",
    "            op2: piheaan.Ciphertext, \n",
    "            min: piheaan.Ciphertext, \n",
    "            max: piheaan.Ciphertext, \n",
    "            numiter_g: int = 8, \n",
    "            numiter_f: int = 3) \n",
    "\n",
    "- default : 5 ~ 6th paramter"
   ]
  },
  {
   "cell_type": "code",
   "execution_count": 453,
   "metadata": {},
   "outputs": [
    {
     "name": "stdout",
     "output_type": "stream",
     "text": [
      "message_3 :  [ (0.531007+0.000000j), (0.230116+0.000000j), (0.566955+0.000000j), (0.340867+0.000000j), (0.158024+0.000000j), (0.249252+0.000000j), (0.972934+0.000000j), (0.074529+0.000000j) ]\n",
      "\n",
      "message_4 :  [ (0.780720+0.000000j), (0.143421+0.000000j), (0.400797+0.000000j), (0.009867+0.000000j), (0.055922+0.000000j), (0.374364+0.000000j), (0.324631+0.000000j), (0.869050+0.000000j) ]\n"
     ]
    }
   ],
   "source": [
    "data3 = np.random.uniform(size=num_slots)\n",
    "data4 = np.random.uniform(size=num_slots)\n",
    "message_3 = heaan.Message(log_slots)\n",
    "message_4 = heaan.Message(log_slots)\n",
    "for i in range(num_slots):\n",
    "    message_3[i]=data3[i]\n",
    "    message_4[i]=data4[i]\n",
    "\n",
    "print(\"message_3 : \", message_3)\n",
    "print()\n",
    "print(\"message_4 : \", message_4)"
   ]
  },
  {
   "cell_type": "code",
   "execution_count": 463,
   "metadata": {},
   "outputs": [],
   "source": [
    "ciphertext_3 = heaan.Ciphertext(context)\n",
    "ciphertext_4 = heaan.Ciphertext(context)\n",
    "\n",
    "enc.encrypt(message_3, pk, ciphertext_3)\n",
    "enc.encrypt(message_4, pk, ciphertext_4)"
   ]
  },
  {
   "cell_type": "code",
   "execution_count": 464,
   "metadata": {},
   "outputs": [],
   "source": [
    "ciphertext_out_min = heaan.Ciphertext(context)\n",
    "ciphertext_out_max = heaan.Ciphertext(context)\n",
    "\n",
    "approx.min_max(eval, ciphertext_3, ciphertext_4, ciphertext_out_min, ciphertext_out_max)"
   ]
  },
  {
   "cell_type": "code",
   "execution_count": 469,
   "metadata": {},
   "outputs": [
    {
     "name": "stdout",
     "output_type": "stream",
     "text": [
      "min :  [ (0.531007+0.000000j), (0.143421+0.000000j), (0.400797+0.000000j), (0.009867+0.000000j), (0.055922+0.000000j), (0.249252+0.000000j), (0.324631+0.000000j), (0.074529+0.000000j) ]\n",
      "\n",
      "max :  [ (0.780720+0.000000j), (0.230116+0.000000j), (0.566955+0.000000j), (0.340867+0.000000j), (0.158024+0.000000j), (0.374364+0.000000j), (0.972934+0.000000j), (0.869050+0.000000j) ]\n"
     ]
    }
   ],
   "source": [
    "message_out_min = heaan.Message(log_slots)\n",
    "message_out_max = heaan.Message(log_slots)\n",
    "dec.decrypt(ciphertext_out_min, sk, message_out_min)\n",
    "dec.decrypt(ciphertext_out_max, sk, message_out_max)\n",
    "print(\"min : \", message_out_min)\n",
    "print()\n",
    "print(\"max : \", message_out_max)\n",
    "\n",
    "# message 3 이랑 message 4 랑 비교해서 둘 중 작은게 min에 들어가고, 큰게 max에 들어간다."
   ]
  },
  {
   "cell_type": "markdown",
   "metadata": {},
   "source": [
    "### sqrt 제곱근\n",
    "- input range : 2^-18 ≤ x ≤ 2\n",
    "- sqrt(arg0: piheaan.HomEvaluator, \n",
    "       arg1: piheaan.Ciphertext, \n",
    "       arg2: piheaan.Ciphertext,\n",
    "       arg3 : init)\n",
    "       \n",
    "- The default value for 3rd parameter is 17.\n",
    "- You can specify a value when you change the default settings.\n",
    "- As the value of the variable changes, the value of the square root and the value of the ciphertext level change.\n",
    "- Error when entering 0 or non-integer values\n",
    "\n"
   ]
  },
  {
   "cell_type": "markdown",
   "metadata": {},
   "source": [
    "### sqrt_inverse\n",
    "- x -> 1/sqrt(x)\n",
    "- input range : 1 ≤ x ≤ 2^22 or 2^-10 ≤ x ≤ 1\n",
    "- sqrt_inverse(eval: piheaan.HomEvaluator, \n",
    "                op: piheaan.Ciphertext, \n",
    "                res: piheaan.Ciphertext, \n",
    "                init: Optional[float] = None, \n",
    "                num_iter: Optional[int] = None, \n",
    "                greater_than_one: bool = True)\n",
    "\n",
    "- default values are init = pow(2, -9), num_iter=20 if greater_than_one==true, \n",
    "- otherwise init = pow(2, -5), num_iter=14\n"
   ]
  },
  {
   "cell_type": "code",
   "execution_count": 485,
   "metadata": {},
   "outputs": [
    {
     "name": "stdout",
     "output_type": "stream",
     "text": [
      "message : [ (1.873791+0.000000j), (0.652887+0.000000j), (0.655677+0.000000j), (0.763333+0.000000j), (1.504464+0.000000j), (0.924002+0.000000j), (0.446858+0.000000j), (0.502150+0.000000j) ]\n"
     ]
    }
   ],
   "source": [
    "log_slots = 3\n",
    "num_slots = 2 ** log_slots\n",
    "\n",
    "data = np.random.uniform(2**(-18), 2, num_slots)\n",
    "# data = [i for i in range(num_slots)]\n",
    "message = heaan.Message(log_slots)\n",
    "for i in range(num_slots):\n",
    "    message[i] = data[i]\n",
    "print('message :', message)"
   ]
  },
  {
   "cell_type": "code",
   "execution_count": 486,
   "metadata": {},
   "outputs": [],
   "source": [
    "ciphertext = heaan.Ciphertext(context)\n",
    "enc.encrypt(message, pk, ciphertext)\n",
    "\n",
    "ciphertext_sqrt = heaan.Ciphertext(context)\n",
    "approx.sqrt(eval, ciphertext, ciphertext_sqrt)\n",
    "\n",
    "ciphertext_sqrt_inv = heaan.Ciphertext(context)\n",
    "approx.sqrt_inverse(eval, ciphertext, ciphertext_sqrt_inv) # 1 ~ 2^18\n",
    "\n",
    "message_out_sqrt = heaan.Message(log_slots)\n",
    "message_out_sqrt_inv = heaan.Message(log_slots)"
   ]
  },
  {
   "cell_type": "code",
   "execution_count": 492,
   "metadata": {},
   "outputs": [
    {
     "name": "stdout",
     "output_type": "stream",
     "text": [
      "sqrt :  [ (1.368865+0.000000j), (0.808014+0.000000j), (0.809739+0.000000j), (0.873689+0.000000j), (1.226566+0.000000j), (0.961250+0.000000j), (0.668474+0.000000j), (0.708626+0.000000j) ]\n",
      "\n",
      "sqrt_inverse :  [ (0.730532+0.000000j), (1.237602+0.000000j), (1.234966+0.000000j), (1.144571+0.000000j), (0.815284+0.000000j), (1.040312+0.000000j), (1.495943+0.000000j), (1.411182+0.000000j) ]\n"
     ]
    }
   ],
   "source": [
    "dec.decrypt(ciphertext_sqrt, sk, message_out_sqrt)\n",
    "dec.decrypt(ciphertext_sqrt_inv, sk, message_out_sqrt_inv)\n",
    "\n",
    "print('sqrt : ', message_out_sqrt)\n",
    "print()\n",
    "print('sqrt_inverse : ', message_out_sqrt_inv)"
   ]
  },
  {
   "cell_type": "code",
   "execution_count": null,
   "metadata": {},
   "outputs": [],
   "source": []
  },
  {
   "cell_type": "code",
   "execution_count": null,
   "metadata": {},
   "outputs": [],
   "source": []
  }
 ],
 "metadata": {
  "kernelspec": {
   "display_name": "Python 3 (ipykernel)",
   "language": "python",
   "name": "python3"
  },
  "language_info": {
   "codemirror_mode": {
    "name": "ipython",
    "version": 3
   },
   "file_extension": ".py",
   "mimetype": "text/x-python",
   "name": "python",
   "nbconvert_exporter": "python",
   "pygments_lexer": "ipython3",
   "version": "3.9.13"
  },
  "vscode": {
   "interpreter": {
    "hash": "916dbcbb3f70747c44a77c7bcd40155683ae19c65e1c03b4aa3499c5328201f1"
   }
  }
 },
 "nbformat": 4,
 "nbformat_minor": 2
}
